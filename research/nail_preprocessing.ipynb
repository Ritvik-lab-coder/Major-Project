{
 "cells": [
  {
   "cell_type": "code",
   "execution_count": 7,
   "id": "c4e58480",
   "metadata": {},
   "outputs": [],
   "source": [
    "import os\n",
    "import cv2\n",
    "import numpy as np\n",
    "from PIL import Image\n",
    "from tqdm import tqdm\n",
    "\n",
    "input_root = \"nail_disease_dataset\"  \n",
    "output_root = \"preprocessed_dataset\" \n",
    "target_size = (224, 224)  # Resize dimensions"
   ]
  },
  {
   "cell_type": "code",
   "execution_count": 3,
   "id": "0eac34da",
   "metadata": {},
   "outputs": [],
   "source": [
    "# CLAHE \n",
    "def apply_clahe(img):\n",
    "    \"\"\"\n",
    "    Enhances local contrast using CLAHE on the L-channel in LAB color space.\n",
    "    \"\"\"\n",
    "    lab = cv2.cvtColor(img, cv2.COLOR_BGR2LAB)\n",
    "    l, a, b = cv2.split(lab)\n",
    "    clahe = cv2.createCLAHE(clipLimit=3.0, tileGridSize=(8, 8))\n",
    "    cl = clahe.apply(l)\n",
    "    merged = cv2.merge((cl, a, b))\n",
    "    enhanced_img = cv2.cvtColor(merged, cv2.COLOR_LAB2BGR)\n",
    "    return enhanced_img"
   ]
  },
  {
   "cell_type": "code",
   "execution_count": 4,
   "id": "6ecd00df",
   "metadata": {},
   "outputs": [],
   "source": [
    "# Bilateral Filtering\n",
    "def apply_bilateral_filter(img):\n",
    "    \"\"\"\n",
    "    Applies bilateral filtering to reduce noise while preserving edges.\n",
    "    \"\"\"\n",
    "    return cv2.bilateralFilter(img, d=9, sigmaColor=75, sigmaSpace=75)"
   ]
  },
  {
   "cell_type": "code",
   "execution_count": 5,
   "id": "6ca6868e",
   "metadata": {},
   "outputs": [],
   "source": [
    "def preprocess_and_save_images(input_dir, output_dir):\n",
    "    \"\"\"\n",
    "    Loops through the class folders in input_dir (train/test),\n",
    "    applies preprocessing steps, and saves the processed images to output_dir.\n",
    "    \"\"\"\n",
    "    if not os.path.exists(output_dir):\n",
    "        os.makedirs(output_dir)\n",
    "\n",
    "    for class_name in os.listdir(input_dir):\n",
    "        class_input_path = os.path.join(input_dir, class_name)\n",
    "        class_output_path = os.path.join(output_dir, class_name)\n",
    "\n",
    "        if not os.path.exists(class_output_path):\n",
    "            os.makedirs(class_output_path)\n",
    "\n",
    "        for image_name in tqdm(os.listdir(class_input_path), desc=f\"Processing {class_name}\"):\n",
    "            image_path = os.path.join(class_input_path, image_name)\n",
    "            try:\n",
    "                # Read and resize image\n",
    "                img = cv2.imread(image_path)\n",
    "                img = cv2.resize(img, target_size)\n",
    "\n",
    "                # Apply preprocessing\n",
    "                img = apply_clahe(img)\n",
    "                img = apply_bilateral_filter(img)\n",
    "\n",
    "                # Normalize image\n",
    "                img = img.astype(np.float32) / 255.0\n",
    "\n",
    "                # Save as .png\n",
    "                output_image_path = os.path.join(class_output_path, image_name)\n",
    "                cv2.imwrite(output_image_path, (img * 255).astype(np.uint8))\n",
    "\n",
    "            except Exception as e:\n",
    "                print(f\" Error processing {image_path}: {e}\")\n"
   ]
  },
  {
   "cell_type": "code",
   "execution_count": 8,
   "id": "c58a0ec3",
   "metadata": {},
   "outputs": [
    {
     "name": "stderr",
     "output_type": "stream",
     "text": [
      "Processing healthy: 100%|██████████| 248/248 [00:05<00:00, 44.36it/s]\n",
      "Processing onychomycosis: 100%|██████████| 575/575 [00:15<00:00, 37.93it/s]\n",
      "Processing psoriasis: 100%|██████████| 342/342 [00:07<00:00, 46.10it/s]\n",
      "Processing healthy: 100%|██████████| 62/62 [00:03<00:00, 20.29it/s]\n",
      "Processing onychomycosis: 100%|██████████| 147/147 [00:03<00:00, 47.05it/s]\n",
      "Processing psoriasis:  85%|████████▍ | 78/92 [00:01<00:00, 45.97it/s]"
     ]
    },
    {
     "name": "stdout",
     "output_type": "stream",
     "text": [
      " Error processing nail_disease_dataset\\test\\psoriasis\\psoriatic-nail-037__WatermarkedWyJXYXRlcm1hcmtlZCJd.jfif: OpenCV(4.11.0) D:\\a\\opencv-python\\opencv-python\\opencv\\modules\\imgcodecs\\src\\loadsave.cpp:836: error: (-2:Unspecified error) could not find a writer for the specified extension in function 'cv::imwrite_'\n",
      "\n"
     ]
    },
    {
     "name": "stderr",
     "output_type": "stream",
     "text": [
      "Processing psoriasis: 100%|██████████| 92/92 [00:02<00:00, 42.64it/s]\n"
     ]
    }
   ],
   "source": [
    "#  preprocessing on both train and test folders\n",
    "for split in [\"train\", \"test\"]:\n",
    "    input_dir = os.path.join(input_root, split)\n",
    "    output_dir = os.path.join(output_root, split)\n",
    "    preprocess_and_save_images(input_dir, output_dir)"
   ]
  }
 ],
 "metadata": {
  "kernelspec": {
   "display_name": "venv",
   "language": "python",
   "name": "python3"
  },
  "language_info": {
   "codemirror_mode": {
    "name": "ipython",
    "version": 3
   },
   "file_extension": ".py",
   "mimetype": "text/x-python",
   "name": "python",
   "nbconvert_exporter": "python",
   "pygments_lexer": "ipython3",
   "version": "3.13.2"
  }
 },
 "nbformat": 4,
 "nbformat_minor": 5
}
