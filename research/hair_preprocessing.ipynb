{
 "cells": [
  {
   "cell_type": "code",
   "execution_count": 1,
   "id": "9774e815",
   "metadata": {},
   "outputs": [
    {
     "name": "stdout",
     "output_type": "stream",
     "text": [
      "\n",
      "Processing train data...\n",
      "\n",
      "Processing test data...\n",
      "\n",
      "Processing val data...\n",
      "\n",
      " Hair image preprocessing complete!\n"
     ]
    }
   ],
   "source": [
    "import os\n",
    "import cv2\n",
    "import numpy as np\n",
    "from tqdm import tqdm\n",
    "\n",
    "INPUT_BASE_PATH = \"Hair Diseases\"\n",
    "OUTPUT_BASE_PATH = \"hair_preprocessed\"\n",
    "IMAGE_SIZE = (224, 224)\n",
    "\n",
    "def preprocess_image(image):\n",
    "    \"\"\"\n",
    "    Applies grayscale conversion, CLAHE, bilateral filtering, \n",
    "    normalization, resizing, and converts back to 3 channels.\n",
    "    \"\"\"\n",
    "    # converting to grayscale\n",
    "    gray = cv2.cvtColor(image, cv2.COLOR_BGR2GRAY)\n",
    "\n",
    "    # CLAHE \n",
    "    clahe = cv2.createCLAHE(clipLimit=2.0, tileGridSize=(8, 8))\n",
    "    clahe_img = clahe.apply(gray)\n",
    "\n",
    "    # bilateral filtering\n",
    "    filtered = cv2.bilateralFilter(clahe_img, d=9, sigmaColor=75, sigmaSpace=75)\n",
    "\n",
    "    # Normalize to [0, 255]\n",
    "    normalized = cv2.normalize(filtered, None, 0, 255, cv2.NORM_MINMAX)\n",
    "\n",
    "    # Converting back to 3 channels for CNN input compatibility\n",
    "    final_img = cv2.cvtColor(normalized, cv2.COLOR_GRAY2BGR)\n",
    "\n",
    "    # Resizing to target size\n",
    "    resized = cv2.resize(final_img, IMAGE_SIZE)\n",
    "\n",
    "    return resized\n",
    "\n",
    "def process_directory(input_dir, output_dir):\n",
    "    \"\"\"\n",
    "    Recursively processes all images in a directory and \n",
    "    saves them in the same structure under the output directory.\n",
    "    \"\"\"\n",
    "    for root, dirs, files in os.walk(input_dir):\n",
    "        for file in files:\n",
    "            if file.lower().endswith((\".jpg\", \".jpeg\", \".png\", \".bmp\", \".jfif\", \".webp\")):\n",
    "                input_path = os.path.join(root, file)\n",
    "                \n",
    "                relative_path = os.path.relpath(root, input_dir)\n",
    "                save_dir = os.path.join(output_dir, relative_path)\n",
    "                os.makedirs(save_dir, exist_ok=True)\n",
    "\n",
    "                try:\n",
    "                    img = cv2.imread(input_path)\n",
    "                    if img is not None:\n",
    "                        processed_img = preprocess_image(img)\n",
    "                        base_name = os.path.splitext(file)[0]\n",
    "                        output_path = os.path.join(save_dir, base_name + \".png\")\n",
    "                        cv2.imwrite(output_path, processed_img)\n",
    "                except Exception as e:\n",
    "                    print(f\"Error processing {input_path}: {e}\")\n",
    "\n",
    "for split in ['train', 'test', 'val']:\n",
    "    input_path = os.path.join(INPUT_BASE_PATH, split)\n",
    "    output_path = os.path.join(OUTPUT_BASE_PATH, split)\n",
    "\n",
    "    print(f\"\\nProcessing {split} data...\")\n",
    "    process_directory(input_path, output_path)\n",
    "\n",
    "print(\"\\n Hair image preprocessing complete!\")"
   ]
  }
 ],
 "metadata": {
  "kernelspec": {
   "display_name": "venv",
   "language": "python",
   "name": "python3"
  },
  "language_info": {
   "codemirror_mode": {
    "name": "ipython",
    "version": 3
   },
   "file_extension": ".py",
   "mimetype": "text/x-python",
   "name": "python",
   "nbconvert_exporter": "python",
   "pygments_lexer": "ipython3",
   "version": "3.13.2"
  }
 },
 "nbformat": 4,
 "nbformat_minor": 5
}
